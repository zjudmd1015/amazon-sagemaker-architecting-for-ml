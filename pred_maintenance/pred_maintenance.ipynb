{
 "cells": [
  {
   "cell_type": "markdown",
   "metadata": {},
   "source": [
    "## Reference\n",
    "\n",
    "1. https://github.com/awslabs/predictive-maintenance-using-machine-learning/blob/master/source/notebooks/sagemaker_predictive_maintenance.ipynb\n",
    "2. https://dylan-notebook.notebook.us-east-1.sagemaker.aws/notebooks/xgboost_abalone_2020-01-29/xgboost_abalone.ipynb\n",
    "3. https://docs.aws.amazon.com/sagemaker/latest/dg/xgboost.html\n",
    "4. https://docs.aws.amazon.com/sagemaker/latest/dg/xgboost_hyperparameters.html"
   ]
  },
  {
   "cell_type": "code",
   "execution_count": 1,
   "metadata": {},
   "outputs": [
    {
     "name": "stdout",
     "output_type": "stream",
     "text": [
      "arn:aws:iam::023375022819:role/service-role/AmazonSageMaker-ExecutionRole-20191220T213935\n"
     ]
    }
   ],
   "source": [
    "import sagemaker\n",
    "from sagemaker import get_execution_role\n",
    "import boto3\n",
    "\n",
    "sess = sagemaker.Session()\n",
    "\n",
    "role = get_execution_role()\n",
    "print(role) # This is the role that SageMaker would use to leverage AWS resources (S3, CloudWatch) on your behalf"
   ]
  },
  {
   "cell_type": "code",
   "execution_count": 2,
   "metadata": {},
   "outputs": [],
   "source": [
    "import numpy as np\n",
    "import pandas as pd\n",
    "import os\n",
    "import json"
   ]
  },
  {
   "cell_type": "code",
   "execution_count": 3,
   "metadata": {},
   "outputs": [
    {
     "name": "stdout",
     "output_type": "stream",
     "text": [
      "Damage Propagation Modeling.pdf  RUL_FD004.txt\t train_FD001.txt\r\n",
      "readme.txt\t\t\t test_FD001.txt  train_FD002.txt\r\n",
      "RUL_FD001.txt\t\t\t test_FD002.txt  train_FD003.txt\r\n",
      "RUL_FD002.txt\t\t\t test_FD003.txt  train_FD004.txt\r\n",
      "RUL_FD003.txt\t\t\t test_FD004.txt\r\n"
     ]
    }
   ],
   "source": [
    "!ls cmapss_dataset/"
   ]
  },
  {
   "cell_type": "code",
   "execution_count": 4,
   "metadata": {},
   "outputs": [],
   "source": [
    "data_folder = 'cmapss_dataset'\n",
    "columns = ['id', 'cycle', 'setting1', 'setting2', 'setting3', 's1', 's2', 's3','s4', 's5', 's6', 's7', 's8', 's9', 's10', 's11', 's12', 's13', 's14','s15', 's16', 's17', 's18', 's19', 's20', 's21']"
   ]
  },
  {
   "cell_type": "markdown",
   "metadata": {},
   "source": [
    "## training data"
   ]
  },
  {
   "cell_type": "code",
   "execution_count": 5,
   "metadata": {},
   "outputs": [],
   "source": [
    "# normalize sensor readings\n",
    "train_df = []\n",
    "eps = 0.000001 # for floating point issues during normalization \n",
    "for i in range(1,5):\n",
    "    df = pd.read_csv('{}/train_FD{:03d}.txt'.format(data_folder, i), delimiter=' ', header=None)\n",
    "    df.drop(df.columns[[26, 27]], axis=1, inplace=True)\n",
    "    df.columns = columns\n",
    "    df[columns[2:]]=(df[columns[2:]]-df[columns[2:]].min()+eps)/(df[columns[2:]].max()-df[columns[2:]].min()+eps)\n",
    "    train_df.append(df)"
   ]
  },
  {
   "cell_type": "code",
   "execution_count": 6,
   "metadata": {},
   "outputs": [
    {
     "data": {
      "text/html": [
       "<div>\n",
       "<style scoped>\n",
       "    .dataframe tbody tr th:only-of-type {\n",
       "        vertical-align: middle;\n",
       "    }\n",
       "\n",
       "    .dataframe tbody tr th {\n",
       "        vertical-align: top;\n",
       "    }\n",
       "\n",
       "    .dataframe thead th {\n",
       "        text-align: right;\n",
       "    }\n",
       "</style>\n",
       "<table border=\"1\" class=\"dataframe\">\n",
       "  <thead>\n",
       "    <tr style=\"text-align: right;\">\n",
       "      <th></th>\n",
       "      <th>id</th>\n",
       "      <th>cycle</th>\n",
       "      <th>setting1</th>\n",
       "      <th>setting2</th>\n",
       "      <th>setting3</th>\n",
       "      <th>s1</th>\n",
       "      <th>s2</th>\n",
       "      <th>s3</th>\n",
       "      <th>s4</th>\n",
       "      <th>s5</th>\n",
       "      <th>...</th>\n",
       "      <th>s12</th>\n",
       "      <th>s13</th>\n",
       "      <th>s14</th>\n",
       "      <th>s15</th>\n",
       "      <th>s16</th>\n",
       "      <th>s17</th>\n",
       "      <th>s18</th>\n",
       "      <th>s19</th>\n",
       "      <th>s20</th>\n",
       "      <th>s21</th>\n",
       "    </tr>\n",
       "  </thead>\n",
       "  <tbody>\n",
       "    <tr>\n",
       "      <th>0</th>\n",
       "      <td>1</td>\n",
       "      <td>1</td>\n",
       "      <td>0.999926</td>\n",
       "      <td>0.997625</td>\n",
       "      <td>1.000000e+00</td>\n",
       "      <td>1.357405e-08</td>\n",
       "      <td>0.130347</td>\n",
       "      <td>0.272082</td>\n",
       "      <td>0.212586</td>\n",
       "      <td>9.337067e-08</td>\n",
       "      <td>...</td>\n",
       "      <td>0.003593</td>\n",
       "      <td>0.993111</td>\n",
       "      <td>0.550773</td>\n",
       "      <td>0.400540</td>\n",
       "      <td>0.0001</td>\n",
       "      <td>0.288660</td>\n",
       "      <td>6.279070e-01</td>\n",
       "      <td>1.000000e+00</td>\n",
       "      <td>0.015473</td>\n",
       "      <td>0.015881</td>\n",
       "    </tr>\n",
       "    <tr>\n",
       "      <th>1</th>\n",
       "      <td>1</td>\n",
       "      <td>2</td>\n",
       "      <td>0.476147</td>\n",
       "      <td>0.831592</td>\n",
       "      <td>1.000000e+00</td>\n",
       "      <td>6.269852e-01</td>\n",
       "      <td>0.647971</td>\n",
       "      <td>0.634407</td>\n",
       "      <td>0.511781</td>\n",
       "      <td>5.079366e-01</td>\n",
       "      <td>...</td>\n",
       "      <td>0.450364</td>\n",
       "      <td>0.992395</td>\n",
       "      <td>0.481761</td>\n",
       "      <td>0.351346</td>\n",
       "      <td>0.0001</td>\n",
       "      <td>0.608247</td>\n",
       "      <td>8.646934e-01</td>\n",
       "      <td>1.000000e+00</td>\n",
       "      <td>0.477968</td>\n",
       "      <td>0.481487</td>\n",
       "    </tr>\n",
       "    <tr>\n",
       "      <th>2</th>\n",
       "      <td>1</td>\n",
       "      <td>3</td>\n",
       "      <td>0.999900</td>\n",
       "      <td>0.998694</td>\n",
       "      <td>1.000000e+00</td>\n",
       "      <td>1.357405e-08</td>\n",
       "      <td>0.123646</td>\n",
       "      <td>0.271245</td>\n",
       "      <td>0.222481</td>\n",
       "      <td>9.337067e-08</td>\n",
       "      <td>...</td>\n",
       "      <td>0.003202</td>\n",
       "      <td>0.993056</td>\n",
       "      <td>0.531031</td>\n",
       "      <td>0.423788</td>\n",
       "      <td>0.0001</td>\n",
       "      <td>0.278351</td>\n",
       "      <td>6.279070e-01</td>\n",
       "      <td>1.000000e+00</td>\n",
       "      <td>0.010764</td>\n",
       "      <td>0.018932</td>\n",
       "    </tr>\n",
       "    <tr>\n",
       "      <th>3</th>\n",
       "      <td>1</td>\n",
       "      <td>4</td>\n",
       "      <td>0.999810</td>\n",
       "      <td>0.997625</td>\n",
       "      <td>1.000000e+00</td>\n",
       "      <td>1.357405e-08</td>\n",
       "      <td>0.121351</td>\n",
       "      <td>0.266168</td>\n",
       "      <td>0.224835</td>\n",
       "      <td>9.337067e-08</td>\n",
       "      <td>...</td>\n",
       "      <td>0.003641</td>\n",
       "      <td>0.993194</td>\n",
       "      <td>0.553707</td>\n",
       "      <td>0.401716</td>\n",
       "      <td>0.0001</td>\n",
       "      <td>0.268041</td>\n",
       "      <td>6.279070e-01</td>\n",
       "      <td>1.000000e+00</td>\n",
       "      <td>0.012782</td>\n",
       "      <td>0.018724</td>\n",
       "    </tr>\n",
       "    <tr>\n",
       "      <th>4</th>\n",
       "      <td>1</td>\n",
       "      <td>5</td>\n",
       "      <td>0.595275</td>\n",
       "      <td>0.737174</td>\n",
       "      <td>2.500000e-08</td>\n",
       "      <td>2.380888e-01</td>\n",
       "      <td>0.005691</td>\n",
       "      <td>0.033916</td>\n",
       "      <td>0.022025</td>\n",
       "      <td>2.931840e-01</td>\n",
       "      <td>...</td>\n",
       "      <td>0.087492</td>\n",
       "      <td>0.001405</td>\n",
       "      <td>0.048140</td>\n",
       "      <td>0.920536</td>\n",
       "      <td>0.0001</td>\n",
       "      <td>0.030928</td>\n",
       "      <td>2.114165e-09</td>\n",
       "      <td>6.635700e-08</td>\n",
       "      <td>0.130172</td>\n",
       "      <td>0.145560</td>\n",
       "    </tr>\n",
       "  </tbody>\n",
       "</table>\n",
       "<p>5 rows × 26 columns</p>\n",
       "</div>"
      ],
      "text/plain": [
       "   id  cycle  setting1  setting2      setting3            s1        s2  \\\n",
       "0   1      1  0.999926  0.997625  1.000000e+00  1.357405e-08  0.130347   \n",
       "1   1      2  0.476147  0.831592  1.000000e+00  6.269852e-01  0.647971   \n",
       "2   1      3  0.999900  0.998694  1.000000e+00  1.357405e-08  0.123646   \n",
       "3   1      4  0.999810  0.997625  1.000000e+00  1.357405e-08  0.121351   \n",
       "4   1      5  0.595275  0.737174  2.500000e-08  2.380888e-01  0.005691   \n",
       "\n",
       "         s3        s4            s5  ...       s12       s13       s14  \\\n",
       "0  0.272082  0.212586  9.337067e-08  ...  0.003593  0.993111  0.550773   \n",
       "1  0.634407  0.511781  5.079366e-01  ...  0.450364  0.992395  0.481761   \n",
       "2  0.271245  0.222481  9.337067e-08  ...  0.003202  0.993056  0.531031   \n",
       "3  0.266168  0.224835  9.337067e-08  ...  0.003641  0.993194  0.553707   \n",
       "4  0.033916  0.022025  2.931840e-01  ...  0.087492  0.001405  0.048140   \n",
       "\n",
       "        s15     s16       s17           s18           s19       s20       s21  \n",
       "0  0.400540  0.0001  0.288660  6.279070e-01  1.000000e+00  0.015473  0.015881  \n",
       "1  0.351346  0.0001  0.608247  8.646934e-01  1.000000e+00  0.477968  0.481487  \n",
       "2  0.423788  0.0001  0.278351  6.279070e-01  1.000000e+00  0.010764  0.018932  \n",
       "3  0.401716  0.0001  0.268041  6.279070e-01  1.000000e+00  0.012782  0.018724  \n",
       "4  0.920536  0.0001  0.030928  2.114165e-09  6.635700e-08  0.130172  0.145560  \n",
       "\n",
       "[5 rows x 26 columns]"
      ]
     },
     "execution_count": 6,
     "metadata": {},
     "output_type": "execute_result"
    }
   ],
   "source": [
    "df.head()"
   ]
  },
  {
   "cell_type": "code",
   "execution_count": 7,
   "metadata": {},
   "outputs": [
    {
     "data": {
      "text/plain": [
       "(61249, 26)"
      ]
     },
     "execution_count": 7,
     "metadata": {},
     "output_type": "execute_result"
    }
   ],
   "source": [
    "df.shape"
   ]
  },
  {
   "cell_type": "code",
   "execution_count": 8,
   "metadata": {},
   "outputs": [
    {
     "data": {
      "text/plain": [
       "(20631, 26)"
      ]
     },
     "execution_count": 8,
     "metadata": {},
     "output_type": "execute_result"
    }
   ],
   "source": [
    "train_df[0].shape"
   ]
  },
  {
   "cell_type": "code",
   "execution_count": 9,
   "metadata": {},
   "outputs": [],
   "source": [
    "# compute RUL (remaining useful life)\n",
    "for i, df in enumerate(train_df):\n",
    "    rul = pd.DataFrame(df.groupby('id')['cycle'].max()).reset_index()\n",
    "    rul.columns = ['id', 'max']\n",
    "    df = df.merge(rul, on=['id'], how='left')\n",
    "    df['RUL'] = df['max'] - df['cycle']\n",
    "    df.drop('max', axis=1, inplace=True)\n",
    "    train_df[i]=df"
   ]
  },
  {
   "cell_type": "code",
   "execution_count": 10,
   "metadata": {},
   "outputs": [
    {
     "data": {
      "text/html": [
       "<div>\n",
       "<style scoped>\n",
       "    .dataframe tbody tr th:only-of-type {\n",
       "        vertical-align: middle;\n",
       "    }\n",
       "\n",
       "    .dataframe tbody tr th {\n",
       "        vertical-align: top;\n",
       "    }\n",
       "\n",
       "    .dataframe thead th {\n",
       "        text-align: right;\n",
       "    }\n",
       "</style>\n",
       "<table border=\"1\" class=\"dataframe\">\n",
       "  <thead>\n",
       "    <tr style=\"text-align: right;\">\n",
       "      <th></th>\n",
       "      <th>id</th>\n",
       "      <th>cycle</th>\n",
       "      <th>setting1</th>\n",
       "      <th>setting2</th>\n",
       "      <th>setting3</th>\n",
       "      <th>s1</th>\n",
       "      <th>s2</th>\n",
       "      <th>s3</th>\n",
       "      <th>s4</th>\n",
       "      <th>s5</th>\n",
       "      <th>...</th>\n",
       "      <th>s13</th>\n",
       "      <th>s14</th>\n",
       "      <th>s15</th>\n",
       "      <th>s16</th>\n",
       "      <th>s17</th>\n",
       "      <th>s18</th>\n",
       "      <th>s19</th>\n",
       "      <th>s20</th>\n",
       "      <th>s21</th>\n",
       "      <th>RUL</th>\n",
       "    </tr>\n",
       "  </thead>\n",
       "  <tbody>\n",
       "    <tr>\n",
       "      <th>0</th>\n",
       "      <td>1</td>\n",
       "      <td>1</td>\n",
       "      <td>0.999926</td>\n",
       "      <td>0.997625</td>\n",
       "      <td>1.000000e+00</td>\n",
       "      <td>1.357405e-08</td>\n",
       "      <td>0.130347</td>\n",
       "      <td>0.272082</td>\n",
       "      <td>0.212586</td>\n",
       "      <td>9.337067e-08</td>\n",
       "      <td>...</td>\n",
       "      <td>0.993111</td>\n",
       "      <td>0.550773</td>\n",
       "      <td>0.400540</td>\n",
       "      <td>0.0001</td>\n",
       "      <td>0.288660</td>\n",
       "      <td>6.279070e-01</td>\n",
       "      <td>1.000000e+00</td>\n",
       "      <td>0.015473</td>\n",
       "      <td>0.015881</td>\n",
       "      <td>320</td>\n",
       "    </tr>\n",
       "    <tr>\n",
       "      <th>1</th>\n",
       "      <td>1</td>\n",
       "      <td>2</td>\n",
       "      <td>0.476147</td>\n",
       "      <td>0.831592</td>\n",
       "      <td>1.000000e+00</td>\n",
       "      <td>6.269852e-01</td>\n",
       "      <td>0.647971</td>\n",
       "      <td>0.634407</td>\n",
       "      <td>0.511781</td>\n",
       "      <td>5.079366e-01</td>\n",
       "      <td>...</td>\n",
       "      <td>0.992395</td>\n",
       "      <td>0.481761</td>\n",
       "      <td>0.351346</td>\n",
       "      <td>0.0001</td>\n",
       "      <td>0.608247</td>\n",
       "      <td>8.646934e-01</td>\n",
       "      <td>1.000000e+00</td>\n",
       "      <td>0.477968</td>\n",
       "      <td>0.481487</td>\n",
       "      <td>319</td>\n",
       "    </tr>\n",
       "    <tr>\n",
       "      <th>2</th>\n",
       "      <td>1</td>\n",
       "      <td>3</td>\n",
       "      <td>0.999900</td>\n",
       "      <td>0.998694</td>\n",
       "      <td>1.000000e+00</td>\n",
       "      <td>1.357405e-08</td>\n",
       "      <td>0.123646</td>\n",
       "      <td>0.271245</td>\n",
       "      <td>0.222481</td>\n",
       "      <td>9.337067e-08</td>\n",
       "      <td>...</td>\n",
       "      <td>0.993056</td>\n",
       "      <td>0.531031</td>\n",
       "      <td>0.423788</td>\n",
       "      <td>0.0001</td>\n",
       "      <td>0.278351</td>\n",
       "      <td>6.279070e-01</td>\n",
       "      <td>1.000000e+00</td>\n",
       "      <td>0.010764</td>\n",
       "      <td>0.018932</td>\n",
       "      <td>318</td>\n",
       "    </tr>\n",
       "    <tr>\n",
       "      <th>3</th>\n",
       "      <td>1</td>\n",
       "      <td>4</td>\n",
       "      <td>0.999810</td>\n",
       "      <td>0.997625</td>\n",
       "      <td>1.000000e+00</td>\n",
       "      <td>1.357405e-08</td>\n",
       "      <td>0.121351</td>\n",
       "      <td>0.266168</td>\n",
       "      <td>0.224835</td>\n",
       "      <td>9.337067e-08</td>\n",
       "      <td>...</td>\n",
       "      <td>0.993194</td>\n",
       "      <td>0.553707</td>\n",
       "      <td>0.401716</td>\n",
       "      <td>0.0001</td>\n",
       "      <td>0.268041</td>\n",
       "      <td>6.279070e-01</td>\n",
       "      <td>1.000000e+00</td>\n",
       "      <td>0.012782</td>\n",
       "      <td>0.018724</td>\n",
       "      <td>317</td>\n",
       "    </tr>\n",
       "    <tr>\n",
       "      <th>4</th>\n",
       "      <td>1</td>\n",
       "      <td>5</td>\n",
       "      <td>0.595275</td>\n",
       "      <td>0.737174</td>\n",
       "      <td>2.500000e-08</td>\n",
       "      <td>2.380888e-01</td>\n",
       "      <td>0.005691</td>\n",
       "      <td>0.033916</td>\n",
       "      <td>0.022025</td>\n",
       "      <td>2.931840e-01</td>\n",
       "      <td>...</td>\n",
       "      <td>0.001405</td>\n",
       "      <td>0.048140</td>\n",
       "      <td>0.920536</td>\n",
       "      <td>0.0001</td>\n",
       "      <td>0.030928</td>\n",
       "      <td>2.114165e-09</td>\n",
       "      <td>6.635700e-08</td>\n",
       "      <td>0.130172</td>\n",
       "      <td>0.145560</td>\n",
       "      <td>316</td>\n",
       "    </tr>\n",
       "  </tbody>\n",
       "</table>\n",
       "<p>5 rows × 27 columns</p>\n",
       "</div>"
      ],
      "text/plain": [
       "   id  cycle  setting1  setting2      setting3            s1        s2  \\\n",
       "0   1      1  0.999926  0.997625  1.000000e+00  1.357405e-08  0.130347   \n",
       "1   1      2  0.476147  0.831592  1.000000e+00  6.269852e-01  0.647971   \n",
       "2   1      3  0.999900  0.998694  1.000000e+00  1.357405e-08  0.123646   \n",
       "3   1      4  0.999810  0.997625  1.000000e+00  1.357405e-08  0.121351   \n",
       "4   1      5  0.595275  0.737174  2.500000e-08  2.380888e-01  0.005691   \n",
       "\n",
       "         s3        s4            s5  ...       s13       s14       s15  \\\n",
       "0  0.272082  0.212586  9.337067e-08  ...  0.993111  0.550773  0.400540   \n",
       "1  0.634407  0.511781  5.079366e-01  ...  0.992395  0.481761  0.351346   \n",
       "2  0.271245  0.222481  9.337067e-08  ...  0.993056  0.531031  0.423788   \n",
       "3  0.266168  0.224835  9.337067e-08  ...  0.993194  0.553707  0.401716   \n",
       "4  0.033916  0.022025  2.931840e-01  ...  0.001405  0.048140  0.920536   \n",
       "\n",
       "      s16       s17           s18           s19       s20       s21  RUL  \n",
       "0  0.0001  0.288660  6.279070e-01  1.000000e+00  0.015473  0.015881  320  \n",
       "1  0.0001  0.608247  8.646934e-01  1.000000e+00  0.477968  0.481487  319  \n",
       "2  0.0001  0.278351  6.279070e-01  1.000000e+00  0.010764  0.018932  318  \n",
       "3  0.0001  0.268041  6.279070e-01  1.000000e+00  0.012782  0.018724  317  \n",
       "4  0.0001  0.030928  2.114165e-09  6.635700e-08  0.130172  0.145560  316  \n",
       "\n",
       "[5 rows x 27 columns]"
      ]
     },
     "execution_count": 10,
     "metadata": {},
     "output_type": "execute_result"
    }
   ],
   "source": [
    "df.head()"
   ]
  },
  {
   "cell_type": "markdown",
   "metadata": {},
   "source": [
    "## test data"
   ]
  },
  {
   "cell_type": "code",
   "execution_count": 11,
   "metadata": {},
   "outputs": [],
   "source": [
    "test_df = []\n",
    "for i in range(1,5):\n",
    "    # Load time series\n",
    "    df = pd.read_csv('{}/test_FD{:03d}.txt'.format(data_folder, i), delimiter=' ', header=None)\n",
    "    df.drop(df.columns[[26, 27]], axis=1, inplace=True)\n",
    "    \n",
    "    # Load the RUL values\n",
    "    df_rul = pd.read_csv('{}/RUL_FD{:03d}.txt'.format(data_folder, i), delimiter=' ', header=None)    \n",
    "    df_rul.drop(df_rul.columns[1], axis=1, inplace=True)\n",
    "    df_rul.index += 1\n",
    "    \n",
    "    # Merge RUL and timeseries and compute RUL per timestamp\n",
    "    df = df.merge(df_rul, left_on=df.columns[0], right_index=True, how='left')\n",
    "    df.columns = columns + ['RUL_end']\n",
    "    rul = pd.DataFrame(df.groupby('id')['cycle'].max()).reset_index()\n",
    "    rul.columns = ['id', 'max']\n",
    "    df = df.merge(rul, on=['id'], how='left') # We get the number of cycles per series\n",
    "    df['RUL'] = df['max'] + df['RUL_end'] - df['cycle'] # The RUL is the number of cycles per series + RUL - how many cycles have already ran\n",
    "    df.drop(['max','RUL_end'], axis=1, inplace=True)\n",
    "    \n",
    "    # Normalize\n",
    "    df[columns[2:]]=(df[columns[2:]]-df[columns[2:]].min()+eps)/(df[columns[2:]].max()-df[columns[2:]].min()+eps)\n",
    "    test_df.append(df)"
   ]
  },
  {
   "cell_type": "markdown",
   "metadata": {},
   "source": [
    "## upload processed data to S3 for training"
   ]
  },
  {
   "cell_type": "code",
   "execution_count": 12,
   "metadata": {},
   "outputs": [
    {
     "name": "stdout",
     "output_type": "stream",
     "text": [
      "cmapss_dataset\tCMAPSSData.zip\tpred_maintenance.ipynb\tprocessed_data\r\n"
     ]
    }
   ],
   "source": [
    "!ls"
   ]
  },
  {
   "cell_type": "code",
   "execution_count": 26,
   "metadata": {},
   "outputs": [
    {
     "name": "stdout",
     "output_type": "stream",
     "text": [
      "uploaded training data location: s3://sagemaker-us-east-1-023375022819/md-predictive-maintenance/train\n"
     ]
    }
   ],
   "source": [
    "import boto3\n",
    "import os\n",
    "\n",
    "bucket = sess.default_bucket()\n",
    "prefix = 'md-predictive-maintenance'\n",
    "\n",
    "s3_bucket_resource = boto3.resource('s3').Bucket(bucket)\n",
    "\n",
    "# Upload raw data files to S3\n",
    "for subdir, dirs, files in os.walk(data_folder):\n",
    "    for file in files:\n",
    "        full_path = os.path.join(subdir, file)\n",
    "        s3_path = os.path.join(prefix, full_path)\n",
    "        s3_bucket_resource.Object(s3_path).upload_file(full_path)\n",
    "\n",
    "# Upload processed test data for inference\n",
    "for i in range(len(test_df)):\n",
    "    local_test_file = 'processed_data/test-{}.csv'.format(i)\n",
    "    test_df[i].to_csv(local_test_file)\n",
    "    s3_test_file = os.path.join(prefix, 'test', 'test-{}.csv'.format(i))\n",
    "    s3_bucket_resource.Object(s3_test_file).upload_file(local_test_file)\n",
    "\n",
    "# Upload processed data for training\n",
    "for i in range(len(train_df)):\n",
    "    # split for validation data\n",
    "    df_temp = train_df[i]\n",
    "    train, validate = np.split(df_temp.sample(frac=1), [int(.8*len(df_temp))])\n",
    "\n",
    "    local_train_file = 'processed_data/train-{}.csv'.format(i)\n",
    "    train.to_csv(local_train_file)\n",
    "    s3_train_file = os.path.join(prefix, 'train', 'train-{}.csv'.format(i))\n",
    "    s3_bucket_resource.Object(s3_train_file).upload_file(local_train_file)\n",
    "    \n",
    "    local_validation_file = 'processed_data/validation-{}.csv'.format(i)\n",
    "    df_temp.to_csv(local_validation_file)\n",
    "    s3_validation_file = os.path.join(prefix, 'validation', 'validation-{}.csv'.format(i))\n",
    "    s3_bucket_resource.Object(s3_validation_file).upload_file(local_validation_file)\n",
    "\n",
    "s3_train_data = 's3://{}/{}/{}'.format(bucket, prefix, 'train')\n",
    "print('uploaded training data location: {}'.format(s3_train_data))"
   ]
  },
  {
   "cell_type": "markdown",
   "metadata": {},
   "source": [
    "## set model output location"
   ]
  },
  {
   "cell_type": "code",
   "execution_count": 27,
   "metadata": {},
   "outputs": [
    {
     "name": "stdout",
     "output_type": "stream",
     "text": [
      "training artifacts will be uploaded to: s3://sagemaker-us-east-1-023375022819/md-predictive-maintenance/output\n"
     ]
    }
   ],
   "source": [
    "output_location = 's3://{}/{}/output'.format(bucket, prefix)\n",
    "print('training artifacts will be uploaded to: {}'.format(output_location))"
   ]
  },
  {
   "cell_type": "markdown",
   "metadata": {},
   "source": [
    "## XGBoost Estimator"
   ]
  },
  {
   "cell_type": "code",
   "execution_count": 28,
   "metadata": {},
   "outputs": [
    {
     "name": "stdout",
     "output_type": "stream",
     "text": [
      "us-east-1\n",
      "https://s3-us-east-1.amazonaws.com/sagemaker-us-east-1-023375022819\n"
     ]
    }
   ],
   "source": [
    "region = boto3.Session().region_name\n",
    "bucket_path = 'https://s3-{}.amazonaws.com/{}'.format(region,bucket)\n",
    "\n",
    "print(region)\n",
    "print(bucket_path)"
   ]
  },
  {
   "cell_type": "code",
   "execution_count": 29,
   "metadata": {},
   "outputs": [],
   "source": [
    "from sagemaker.amazon.amazon_estimator import get_image_uri\n",
    "container = get_image_uri(region, 'xgboost', '0.90-1')"
   ]
  },
  {
   "cell_type": "code",
   "execution_count": 33,
   "metadata": {},
   "outputs": [],
   "source": [
    "s3_input_train = sagemaker.s3_input(s3_data='s3://{}/{}/train'.format(bucket, prefix), content_type='csv')\n",
    "s3_input_validation = sagemaker.s3_input(s3_data='s3://{}/{}/validation/'.format(bucket, prefix), content_type='csv')"
   ]
  },
  {
   "cell_type": "code",
   "execution_count": 34,
   "metadata": {},
   "outputs": [
    {
     "name": "stdout",
     "output_type": "stream",
     "text": [
      "2020-01-30 05:04:58 Starting - Starting the training job...\n",
      "2020-01-30 05:04:59 Starting - Launching requested ML instances......\n",
      "2020-01-30 05:06:04 Starting - Preparing the instances for training...\n",
      "2020-01-30 05:06:57 Downloading - Downloading input data...\n",
      "2020-01-30 05:07:29 Training - Downloading the training image...\n",
      "2020-01-30 05:07:51 Training - Training image download completed. Training in progress..\u001b[34mINFO:sagemaker-containers:Imported framework sagemaker_xgboost_container.training\u001b[0m\n",
      "\u001b[34mINFO:sagemaker-containers:Failed to parse hyperparameter objective value reg:squarederror to Json.\u001b[0m\n",
      "\u001b[34mReturning the value itself\u001b[0m\n",
      "\u001b[34mINFO:sagemaker-containers:No GPUs detected (normal if no gpus installed)\u001b[0m\n",
      "\u001b[34mINFO:sagemaker_xgboost_container.training:Running XGBoost Sagemaker in algorithm mode\u001b[0m\n",
      "\u001b[34mINFO:root:Determined delimiter of CSV input is ','\u001b[0m\n",
      "\u001b[34mINFO:root:Determined delimiter of CSV input is ','\u001b[0m\n",
      "\u001b[34mINFO:root:Determined delimiter of CSV input is ','\u001b[0m\n",
      "\u001b[34mINFO:root:Determined delimiter of CSV input is ','\u001b[0m\n",
      "\u001b[34mINFO:root:Determined delimiter of CSV input is ','\u001b[0m\n",
      "\u001b[34mINFO:root:Determined delimiter of CSV input is ','\u001b[0m\n",
      "\u001b[34mINFO:root:Determined delimiter of CSV input is ','\u001b[0m\n",
      "\u001b[34mINFO:root:Determined delimiter of CSV input is ','\u001b[0m\n",
      "\u001b[34mINFO:root:Determined delimiter of CSV input is ','\u001b[0m\n",
      "\u001b[34m[05:07:53] 128290x27 matrix with 3463830 entries loaded from /opt/ml/input/data/train?format=csv&label_column=0&delimiter=,\u001b[0m\n",
      "\u001b[34mINFO:root:Determined delimiter of CSV input is ','\u001b[0m\n",
      "\u001b[34m[05:07:54] 160363x27 matrix with 4329801 entries loaded from /opt/ml/input/data/validation?format=csv&label_column=0&delimiter=,\u001b[0m\n",
      "\u001b[34mINFO:root:Single node training.\u001b[0m\n",
      "\u001b[34mINFO:root:Train matrix has 128290 rows\u001b[0m\n",
      "\u001b[34mINFO:root:Validation matrix has 160363 rows\u001b[0m\n",
      "\u001b[34m[0]#011train-rmse:23344.4#011validation-rmse:23372.9\u001b[0m\n",
      "\u001b[34m[1]#011train-rmse:18733.4#011validation-rmse:18756.2\u001b[0m\n",
      "\u001b[34m[2]#011train-rmse:15051.9#011validation-rmse:15070.3\u001b[0m\n",
      "\u001b[34m[3]#011train-rmse:12117.1#011validation-rmse:12132.1\u001b[0m\n",
      "\u001b[34m[4]#011train-rmse:9781.03#011validation-rmse:9792.85\u001b[0m\n",
      "\u001b[34m[5]#011train-rmse:7922.83#011validation-rmse:7932.65\u001b[0m\n",
      "\u001b[34m[6]#011train-rmse:6444.47#011validation-rmse:6452.64\u001b[0m\n",
      "\u001b[34m[7]#011train-rmse:5274.9#011validation-rmse:5281.86\u001b[0m\n",
      "\u001b[34m[8]#011train-rmse:4359.71#011validation-rmse:4365.73\u001b[0m\n",
      "\u001b[34m[9]#011train-rmse:3612.66#011validation-rmse:3618.19\u001b[0m\n",
      "\u001b[34m[10]#011train-rmse:3041.69#011validation-rmse:3046.58\u001b[0m\n",
      "\u001b[34m[11]#011train-rmse:2596.46#011validation-rmse:2600.7\u001b[0m\n",
      "\u001b[34m[12]#011train-rmse:2216.31#011validation-rmse:2220.31\u001b[0m\n",
      "\u001b[34m[13]#011train-rmse:1934.31#011validation-rmse:1937.93\u001b[0m\n",
      "\u001b[34m[14]#011train-rmse:1674.61#011validation-rmse:1678.3\u001b[0m\n",
      "\u001b[34m[15]#011train-rmse:1489.97#011validation-rmse:1493.81\u001b[0m\n",
      "\u001b[34m[16]#011train-rmse:1340.19#011validation-rmse:1343.92\u001b[0m\n",
      "\u001b[34m[17]#011train-rmse:1232.76#011validation-rmse:1236.72\u001b[0m\n",
      "\u001b[34m[18]#011train-rmse:1107.04#011validation-rmse:1110.81\u001b[0m\n",
      "\u001b[34m[19]#011train-rmse:1037.59#011validation-rmse:1041.31\u001b[0m\n",
      "\u001b[34m[20]#011train-rmse:966.801#011validation-rmse:970.722\u001b[0m\n",
      "\u001b[34m[21]#011train-rmse:889.68#011validation-rmse:893.942\u001b[0m\n",
      "\u001b[34m[22]#011train-rmse:813.04#011validation-rmse:817.539\u001b[0m\n",
      "\u001b[34m[23]#011train-rmse:760.162#011validation-rmse:764.393\u001b[0m\n",
      "\u001b[34m[24]#011train-rmse:713.824#011validation-rmse:718.244\u001b[0m\n",
      "\u001b[34m[25]#011train-rmse:689.442#011validation-rmse:694.229\u001b[0m\n",
      "\u001b[34m[26]#011train-rmse:651.118#011validation-rmse:655.996\u001b[0m\n",
      "\u001b[34m[27]#011train-rmse:622.242#011validation-rmse:627.106\u001b[0m\n",
      "\u001b[34m[28]#011train-rmse:592.796#011validation-rmse:597.62\u001b[0m\n",
      "\u001b[34m[29]#011train-rmse:570.427#011validation-rmse:574.874\u001b[0m\n",
      "\u001b[34m[30]#011train-rmse:552.782#011validation-rmse:557.312\u001b[0m\n",
      "\u001b[34m[31]#011train-rmse:540.752#011validation-rmse:545.253\u001b[0m\n",
      "\u001b[34m[32]#011train-rmse:523.42#011validation-rmse:527.926\u001b[0m\n",
      "\u001b[34m[33]#011train-rmse:513.419#011validation-rmse:517.911\u001b[0m\n",
      "\u001b[34m[34]#011train-rmse:501.256#011validation-rmse:505.818\u001b[0m\n",
      "\u001b[34m[35]#011train-rmse:489.11#011validation-rmse:493.65\u001b[0m\n",
      "\u001b[34m[36]#011train-rmse:484.481#011validation-rmse:489.015\u001b[0m\n",
      "\u001b[34m[37]#011train-rmse:474.893#011validation-rmse:479.474\u001b[0m\n",
      "\u001b[34m[38]#011train-rmse:470.054#011validation-rmse:474.655\u001b[0m\n",
      "\u001b[34m[39]#011train-rmse:456.578#011validation-rmse:460.997\u001b[0m\n",
      "\u001b[34m[40]#011train-rmse:441.13#011validation-rmse:445.187\u001b[0m\n",
      "\u001b[34m[41]#011train-rmse:437.076#011validation-rmse:441.195\u001b[0m\n",
      "\u001b[34m[42]#011train-rmse:427.091#011validation-rmse:431.161\u001b[0m\n",
      "\u001b[34m[43]#011train-rmse:424.47#011validation-rmse:428.536\u001b[0m\n",
      "\u001b[34m[44]#011train-rmse:417.767#011validation-rmse:421.815\u001b[0m\n",
      "\u001b[34m[45]#011train-rmse:412.954#011validation-rmse:416.978\u001b[0m\n",
      "\u001b[34m[46]#011train-rmse:410.002#011validation-rmse:414.055\u001b[0m\n",
      "\u001b[34m[47]#011train-rmse:400.671#011validation-rmse:404.663\u001b[0m\n",
      "\u001b[34m[48]#011train-rmse:397.865#011validation-rmse:401.914\u001b[0m\n",
      "\u001b[34m[49]#011train-rmse:392.503#011validation-rmse:396.514\u001b[0m\n",
      "\u001b[34m[50]#011train-rmse:387.82#011validation-rmse:391.747\u001b[0m\n",
      "\u001b[34m[51]#011train-rmse:384.831#011validation-rmse:388.802\u001b[0m\n",
      "\u001b[34m[52]#011train-rmse:382.332#011validation-rmse:386.256\u001b[0m\n",
      "\u001b[34m[53]#011train-rmse:379.044#011validation-rmse:382.823\u001b[0m\n",
      "\u001b[34m[54]#011train-rmse:375.768#011validation-rmse:379.541\u001b[0m\n",
      "\u001b[34m[55]#011train-rmse:372.043#011validation-rmse:375.792\u001b[0m\n",
      "\u001b[34m[56]#011train-rmse:370.601#011validation-rmse:374.361\u001b[0m\n",
      "\u001b[34m[57]#011train-rmse:365.261#011validation-rmse:368.997\u001b[0m\n",
      "\u001b[34m[58]#011train-rmse:361#011validation-rmse:364.674\u001b[0m\n",
      "\u001b[34m[59]#011train-rmse:358.091#011validation-rmse:361.666\u001b[0m\n",
      "\u001b[34m[60]#011train-rmse:353.672#011validation-rmse:357.233\u001b[0m\n",
      "\u001b[34m[61]#011train-rmse:352.046#011validation-rmse:355.626\u001b[0m\n",
      "\u001b[34m[62]#011train-rmse:351.052#011validation-rmse:354.665\u001b[0m\n",
      "\u001b[34m[63]#011train-rmse:348.794#011validation-rmse:352.42\u001b[0m\n",
      "\u001b[34m[64]#011train-rmse:346.031#011validation-rmse:349.617\u001b[0m\n",
      "\u001b[34m[65]#011train-rmse:344.245#011validation-rmse:347.836\u001b[0m\n",
      "\u001b[34m[66]#011train-rmse:341.87#011validation-rmse:345.456\u001b[0m\n",
      "\u001b[34m[67]#011train-rmse:339.315#011validation-rmse:342.788\u001b[0m\n",
      "\u001b[34m[68]#011train-rmse:337.724#011validation-rmse:341.121\u001b[0m\n",
      "\u001b[34m[69]#011train-rmse:335.094#011validation-rmse:338.536\u001b[0m\n",
      "\u001b[34m[70]#011train-rmse:331.565#011validation-rmse:334.96\u001b[0m\n",
      "\u001b[34m[71]#011train-rmse:330.373#011validation-rmse:333.762\u001b[0m\n",
      "\u001b[34m[72]#011train-rmse:328.797#011validation-rmse:332.179\u001b[0m\n",
      "\u001b[34m[73]#011train-rmse:327.09#011validation-rmse:330.508\u001b[0m\n",
      "\u001b[34m[74]#011train-rmse:324.252#011validation-rmse:327.68\u001b[0m\n",
      "\u001b[34m[75]#011train-rmse:322.875#011validation-rmse:326.275\u001b[0m\n",
      "\u001b[34m[76]#011train-rmse:321.881#011validation-rmse:325.254\u001b[0m\n",
      "\u001b[34m[77]#011train-rmse:320.446#011validation-rmse:323.839\u001b[0m\n",
      "\u001b[34m[78]#011train-rmse:319.076#011validation-rmse:322.485\u001b[0m\n",
      "\u001b[34m[79]#011train-rmse:317.171#011validation-rmse:320.557\u001b[0m\n",
      "\u001b[34m[80]#011train-rmse:314.741#011validation-rmse:318.091\u001b[0m\n",
      "\u001b[34m[81]#011train-rmse:311.435#011validation-rmse:314.794\u001b[0m\n",
      "\u001b[34m[82]#011train-rmse:309.877#011validation-rmse:313.273\u001b[0m\n",
      "\u001b[34m[83]#011train-rmse:308.253#011validation-rmse:311.696\u001b[0m\n",
      "\u001b[34m[84]#011train-rmse:306.767#011validation-rmse:310.226\u001b[0m\n",
      "\u001b[34m[85]#011train-rmse:304.299#011validation-rmse:307.769\u001b[0m\n",
      "\u001b[34m[86]#011train-rmse:303.404#011validation-rmse:306.912\u001b[0m\n",
      "\u001b[34m[87]#011train-rmse:301.035#011validation-rmse:304.591\u001b[0m\n",
      "\u001b[34m[88]#011train-rmse:299.347#011validation-rmse:302.943\u001b[0m\n",
      "\u001b[34m[89]#011train-rmse:296.839#011validation-rmse:300.358\u001b[0m\n",
      "\u001b[34m[90]#011train-rmse:294.931#011validation-rmse:298.424\u001b[0m\n",
      "\u001b[34m[91]#011train-rmse:292.288#011validation-rmse:295.729\u001b[0m\n",
      "\u001b[34m[92]#011train-rmse:290.786#011validation-rmse:294.196\u001b[0m\n",
      "\u001b[34m[93]#011train-rmse:289.226#011validation-rmse:292.613\u001b[0m\n",
      "\u001b[34m[94]#011train-rmse:287.825#011validation-rmse:291.2\u001b[0m\n",
      "\u001b[34m[95]#011train-rmse:285.471#011validation-rmse:288.836\u001b[0m\n",
      "\u001b[34m[96]#011train-rmse:284.423#011validation-rmse:287.772\u001b[0m\n",
      "\u001b[34m[97]#011train-rmse:281.769#011validation-rmse:285.126\u001b[0m\n",
      "\u001b[34m[98]#011train-rmse:281.178#011validation-rmse:284.518\u001b[0m\n",
      "\u001b[34m[99]#011train-rmse:280.125#011validation-rmse:283.467\u001b[0m\n",
      "\n",
      "2020-01-30 05:08:19 Uploading - Uploading generated training model\n",
      "2020-01-30 05:08:19 Completed - Training job completed\n"
     ]
    },
    {
     "name": "stdout",
     "output_type": "stream",
     "text": [
      "Training seconds: 82\n",
      "Billable seconds: 82\n"
     ]
    }
   ],
   "source": [
    "sess = sagemaker.Session()\n",
    "\n",
    "xgb = sagemaker.estimator.Estimator(container,\n",
    "                                    role, \n",
    "                                    train_instance_count=1, \n",
    "                                    train_instance_type='ml.m4.xlarge',\n",
    "                                    output_path='s3://{}/{}/output'.format(bucket, prefix),\n",
    "                                    sagemaker_session=sess)\n",
    "xgb.set_hyperparameters(max_depth=5,\n",
    "                        eta=0.2,\n",
    "                        gamma=4,\n",
    "                        min_child_weight=6,\n",
    "                        subsample=0.8,\n",
    "                        silent=0,\n",
    "                        objective='reg:squarederror',\n",
    "                        num_round=100)\n",
    "\n",
    "xgb.fit({'train': s3_input_train, 'validation': s3_input_validation})"
   ]
  },
  {
   "cell_type": "markdown",
   "metadata": {},
   "source": [
    "## hosting sol 1"
   ]
  },
  {
   "cell_type": "code",
   "execution_count": 35,
   "metadata": {},
   "outputs": [
    {
     "name": "stdout",
     "output_type": "stream",
     "text": [
      "-------------------!"
     ]
    }
   ],
   "source": [
    "xgb_predictor = xgb.deploy(initial_instance_count=1,\n",
    "                           instance_type='ml.m4.xlarge')"
   ]
  },
  {
   "cell_type": "code",
   "execution_count": 36,
   "metadata": {},
   "outputs": [],
   "source": [
    "# clean up\n",
    "xgb.delete_endpoint()"
   ]
  },
  {
   "cell_type": "markdown",
   "metadata": {},
   "source": [
    "## hosting sol 2"
   ]
  },
  {
   "cell_type": "code",
   "execution_count": 40,
   "metadata": {},
   "outputs": [
    {
     "name": "stdout",
     "output_type": "stream",
     "text": [
      "sagemaker-xgboost-2020-01-30-05-04-57-984-model\n",
      "arn:aws:sagemaker:us-east-1:023375022819:model/sagemaker-xgboost-2020-01-30-05-04-57-984-model\n",
      "CPU times: user 14.2 ms, sys: 0 ns, total: 14.2 ms\n",
      "Wall time: 408 ms\n"
     ]
    }
   ],
   "source": [
    "%%time\n",
    "import boto3\n",
    "from time import gmtime, strftime\n",
    "\n",
    "model_name = 'sagemaker-xgboost-2020-01-30-05-04-57-984-model'\n",
    "print(model_name)\n",
    "\n",
    "model_data = '''https://sagemaker-us-east-1-023375022819.s3.amazonaws.com/md-predictive-maintenance/output/sagemaker-xgboost-2020-01-30-05-04-57-984/output/model.tar.gz'''\n",
    "\n",
    "primary_container = {\n",
    "    'Image': container,\n",
    "    'ModelDataUrl': model_data\n",
    "}\n",
    "\n",
    "create_model_response = client.create_model(\n",
    "    ModelName = model_name,\n",
    "    ExecutionRoleArn = role,\n",
    "    PrimaryContainer = primary_container)\n",
    "\n",
    "print(create_model_response['ModelArn'])"
   ]
  },
  {
   "cell_type": "code",
   "execution_count": 41,
   "metadata": {},
   "outputs": [
    {
     "name": "stdout",
     "output_type": "stream",
     "text": [
      "md-XGBoostEndpointConfig-2020-01-30-05-25-34\n",
      "Endpoint Config Arn: arn:aws:sagemaker:us-east-1:023375022819:endpoint-config/md-xgboostendpointconfig-2020-01-30-05-25-34\n"
     ]
    }
   ],
   "source": [
    "from time import gmtime, strftime\n",
    "\n",
    "endpoint_config_name = 'md-XGBoostEndpointConfig-' + strftime(\"%Y-%m-%d-%H-%M-%S\", gmtime())\n",
    "print(endpoint_config_name)\n",
    "create_endpoint_config_response = client.create_endpoint_config(\n",
    "    EndpointConfigName = endpoint_config_name,\n",
    "    ProductionVariants=[{\n",
    "        'InstanceType':'ml.m4.xlarge',\n",
    "        'InitialVariantWeight':1,\n",
    "        'InitialInstanceCount':1,\n",
    "        'ModelName':model_name,\n",
    "        'VariantName':'AllTraffic'}])\n",
    "\n",
    "print(\"Endpoint Config Arn: \" + create_endpoint_config_response['EndpointConfigArn'])"
   ]
  },
  {
   "cell_type": "code",
   "execution_count": 42,
   "metadata": {},
   "outputs": [
    {
     "name": "stdout",
     "output_type": "stream",
     "text": [
      "md-XGBoostEndpoint-2020-01-30-05-25-58\n",
      "arn:aws:sagemaker:us-east-1:023375022819:endpoint/md-xgboostendpoint-2020-01-30-05-25-58\n",
      "Status: Creating\n",
      "Status: Creating\n",
      "Status: Creating\n",
      "Status: Creating\n",
      "Status: Creating\n",
      "Status: Creating\n",
      "Status: Creating\n",
      "Status: Creating\n",
      "Status: Creating\n",
      "Status: Creating\n",
      "Status: InService\n",
      "Arn: arn:aws:sagemaker:us-east-1:023375022819:endpoint/md-xgboostendpoint-2020-01-30-05-25-58\n",
      "Status: InService\n",
      "CPU times: user 161 ms, sys: 17.1 ms, total: 179 ms\n",
      "Wall time: 10min 1s\n"
     ]
    }
   ],
   "source": [
    "%%time\n",
    "import time\n",
    "\n",
    "endpoint_name = 'md-XGBoostEndpoint-' + strftime(\"%Y-%m-%d-%H-%M-%S\", gmtime())\n",
    "print(endpoint_name)\n",
    "create_endpoint_response = client.create_endpoint(\n",
    "    EndpointName=endpoint_name,\n",
    "    EndpointConfigName=endpoint_config_name)\n",
    "print(create_endpoint_response['EndpointArn'])\n",
    "\n",
    "resp = client.describe_endpoint(EndpointName=endpoint_name)\n",
    "status = resp['EndpointStatus']\n",
    "print(\"Status: \" + status)\n",
    "\n",
    "while status=='Creating':\n",
    "    time.sleep(60)\n",
    "    resp = client.describe_endpoint(EndpointName=endpoint_name)\n",
    "    status = resp['EndpointStatus']\n",
    "    print(\"Status: \" + status)\n",
    "\n",
    "print(\"Arn: \" + resp['EndpointArn'])\n",
    "print(\"Status: \" + status)"
   ]
  },
  {
   "cell_type": "code",
   "execution_count": 45,
   "metadata": {},
   "outputs": [
    {
     "data": {
      "text/plain": [
       "{'ResponseMetadata': {'RequestId': '2696e338-3324-4a96-820c-0279bb5d1bfa',\n",
       "  'HTTPStatusCode': 200,\n",
       "  'HTTPHeaders': {'x-amzn-requestid': '2696e338-3324-4a96-820c-0279bb5d1bfa',\n",
       "   'content-type': 'application/x-amz-json-1.1',\n",
       "   'content-length': '0',\n",
       "   'date': 'Thu, 30 Jan 2020 05:38:58 GMT'},\n",
       "  'RetryAttempts': 0}}"
      ]
     },
     "execution_count": 45,
     "metadata": {},
     "output_type": "execute_result"
    }
   ],
   "source": [
    "# delete endpoint\n",
    "client.delete_endpoint(EndpointName=endpoint_name)"
   ]
  }
 ],
 "metadata": {
  "kernelspec": {
   "display_name": "conda_python3",
   "language": "python",
   "name": "conda_python3"
  },
  "language_info": {
   "codemirror_mode": {
    "name": "ipython",
    "version": 3
   },
   "file_extension": ".py",
   "mimetype": "text/x-python",
   "name": "python",
   "nbconvert_exporter": "python",
   "pygments_lexer": "ipython3",
   "version": "3.6.5"
  }
 },
 "nbformat": 4,
 "nbformat_minor": 2
}
